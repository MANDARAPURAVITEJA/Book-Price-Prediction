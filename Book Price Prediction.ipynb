{
 "cells": [
  {
   "cell_type": "markdown",
   "id": "425f6b73",
   "metadata": {},
   "source": [
    "# Book Price Prediction"
   ]
  },
  {
   "cell_type": "code",
   "execution_count": 1,
   "id": "55e1dc45",
   "metadata": {},
   "outputs": [
    {
     "name": "stderr",
     "output_type": "stream",
     "text": [
      "[nltk_data] Downloading package stopwords to\n",
      "[nltk_data]     C:\\Users\\ravit\\AppData\\Roaming\\nltk_data...\n",
      "[nltk_data]   Package stopwords is already up-to-date!\n"
     ]
    }
   ],
   "source": [
    "#Importing Libraries\n",
    "import numpy as np\n",
    "import pandas as pd\n",
    "import matplotlib.pyplot as plt\n",
    "import seaborn as sns\n",
    "\n",
    "import nltk\n",
    "from nltk import word_tokenize, sent_tokenize\n",
    "from nltk.corpus import stopwords\n",
    "from nltk.stem import LancasterStemmer, WordNetLemmatizer, PorterStemmer\n",
    "#from wordcloud import WordCloud, STOPWORDS\n",
    "#!pip install -U textblob\n",
    "from textblob import TextBlob\n",
    "import re\n",
    "nltk.download('stopwords')\n",
    "\n",
    "from sklearn.model_selection import train_test_split\n",
    "#!pip install scipy\n",
    "from scipy.stats import boxcox\n",
    "from sklearn.ensemble import RandomForestRegressor\n",
    "from xgboost import XGBRegressor\n",
    "from sklearn.linear_model import ElasticNet\n",
    "from sklearn.metrics import mean_squared_error as mse\n"
   ]
  },
  {
   "cell_type": "code",
   "execution_count": 2,
   "id": "e48348cb",
   "metadata": {},
   "outputs": [],
   "source": [
    "#Importing the dataset\n",
    "df=pd.read_excel(\"K://DATA SCIENCE Reference//Notebooks//Datasets//Participants_Data//Data_Train.xlsx\")"
   ]
  },
  {
   "cell_type": "code",
   "execution_count": 3,
   "id": "12f24ee8",
   "metadata": {},
   "outputs": [
    {
     "data": {
      "text/html": [
       "<div>\n",
       "<style scoped>\n",
       "    .dataframe tbody tr th:only-of-type {\n",
       "        vertical-align: middle;\n",
       "    }\n",
       "\n",
       "    .dataframe tbody tr th {\n",
       "        vertical-align: top;\n",
       "    }\n",
       "\n",
       "    .dataframe thead th {\n",
       "        text-align: right;\n",
       "    }\n",
       "</style>\n",
       "<table border=\"1\" class=\"dataframe\">\n",
       "  <thead>\n",
       "    <tr style=\"text-align: right;\">\n",
       "      <th></th>\n",
       "      <th>Title</th>\n",
       "      <th>Author</th>\n",
       "      <th>Edition</th>\n",
       "      <th>Reviews</th>\n",
       "      <th>Ratings</th>\n",
       "      <th>Synopsis</th>\n",
       "      <th>Genre</th>\n",
       "      <th>BookCategory</th>\n",
       "      <th>Price</th>\n",
       "    </tr>\n",
       "  </thead>\n",
       "  <tbody>\n",
       "    <tr>\n",
       "      <th>0</th>\n",
       "      <td>The Prisoner's Gold (The Hunters 3)</td>\n",
       "      <td>Chris Kuzneski</td>\n",
       "      <td>Paperback,– 10 Mar 2016</td>\n",
       "      <td>4.0 out of 5 stars</td>\n",
       "      <td>8 customer reviews</td>\n",
       "      <td>THE HUNTERS return in their third brilliant no...</td>\n",
       "      <td>Action &amp; Adventure (Books)</td>\n",
       "      <td>Action &amp; Adventure</td>\n",
       "      <td>220.00</td>\n",
       "    </tr>\n",
       "    <tr>\n",
       "      <th>1</th>\n",
       "      <td>Guru Dutt: A Tragedy in Three Acts</td>\n",
       "      <td>Arun Khopkar</td>\n",
       "      <td>Paperback,– 7 Nov 2012</td>\n",
       "      <td>3.9 out of 5 stars</td>\n",
       "      <td>14 customer reviews</td>\n",
       "      <td>A layered portrait of a troubled genius for wh...</td>\n",
       "      <td>Cinema &amp; Broadcast (Books)</td>\n",
       "      <td>Biographies, Diaries &amp; True Accounts</td>\n",
       "      <td>202.93</td>\n",
       "    </tr>\n",
       "    <tr>\n",
       "      <th>2</th>\n",
       "      <td>Leviathan (Penguin Classics)</td>\n",
       "      <td>Thomas Hobbes</td>\n",
       "      <td>Paperback,– 25 Feb 1982</td>\n",
       "      <td>4.8 out of 5 stars</td>\n",
       "      <td>6 customer reviews</td>\n",
       "      <td>\"During the time men live without a common Pow...</td>\n",
       "      <td>International Relations</td>\n",
       "      <td>Humour</td>\n",
       "      <td>299.00</td>\n",
       "    </tr>\n",
       "    <tr>\n",
       "      <th>3</th>\n",
       "      <td>A Pocket Full of Rye (Miss Marple)</td>\n",
       "      <td>Agatha Christie</td>\n",
       "      <td>Paperback,– 5 Oct 2017</td>\n",
       "      <td>4.1 out of 5 stars</td>\n",
       "      <td>13 customer reviews</td>\n",
       "      <td>A handful of grain is found in the pocket of a...</td>\n",
       "      <td>Contemporary Fiction (Books)</td>\n",
       "      <td>Crime, Thriller &amp; Mystery</td>\n",
       "      <td>180.00</td>\n",
       "    </tr>\n",
       "    <tr>\n",
       "      <th>4</th>\n",
       "      <td>LIFE 70 Years of Extraordinary Photography</td>\n",
       "      <td>Editors of Life</td>\n",
       "      <td>Hardcover,– 10 Oct 2006</td>\n",
       "      <td>5.0 out of 5 stars</td>\n",
       "      <td>1 customer review</td>\n",
       "      <td>For seven decades, \"Life\" has been thrilling t...</td>\n",
       "      <td>Photography Textbooks</td>\n",
       "      <td>Arts, Film &amp; Photography</td>\n",
       "      <td>965.62</td>\n",
       "    </tr>\n",
       "  </tbody>\n",
       "</table>\n",
       "</div>"
      ],
      "text/plain": [
       "                                        Title           Author  \\\n",
       "0         The Prisoner's Gold (The Hunters 3)   Chris Kuzneski   \n",
       "1          Guru Dutt: A Tragedy in Three Acts     Arun Khopkar   \n",
       "2                Leviathan (Penguin Classics)    Thomas Hobbes   \n",
       "3          A Pocket Full of Rye (Miss Marple)  Agatha Christie   \n",
       "4  LIFE 70 Years of Extraordinary Photography  Editors of Life   \n",
       "\n",
       "                   Edition             Reviews              Ratings  \\\n",
       "0  Paperback,– 10 Mar 2016  4.0 out of 5 stars   8 customer reviews   \n",
       "1   Paperback,– 7 Nov 2012  3.9 out of 5 stars  14 customer reviews   \n",
       "2  Paperback,– 25 Feb 1982  4.8 out of 5 stars   6 customer reviews   \n",
       "3   Paperback,– 5 Oct 2017  4.1 out of 5 stars  13 customer reviews   \n",
       "4  Hardcover,– 10 Oct 2006  5.0 out of 5 stars    1 customer review   \n",
       "\n",
       "                                            Synopsis  \\\n",
       "0  THE HUNTERS return in their third brilliant no...   \n",
       "1  A layered portrait of a troubled genius for wh...   \n",
       "2  \"During the time men live without a common Pow...   \n",
       "3  A handful of grain is found in the pocket of a...   \n",
       "4  For seven decades, \"Life\" has been thrilling t...   \n",
       "\n",
       "                          Genre                          BookCategory   Price  \n",
       "0    Action & Adventure (Books)                    Action & Adventure  220.00  \n",
       "1    Cinema & Broadcast (Books)  Biographies, Diaries & True Accounts  202.93  \n",
       "2       International Relations                                Humour  299.00  \n",
       "3  Contemporary Fiction (Books)             Crime, Thriller & Mystery  180.00  \n",
       "4         Photography Textbooks              Arts, Film & Photography  965.62  "
      ]
     },
     "execution_count": 3,
     "metadata": {},
     "output_type": "execute_result"
    }
   ],
   "source": [
    "df.head()"
   ]
  },
  {
   "cell_type": "code",
   "execution_count": 4,
   "id": "cbfec45c",
   "metadata": {},
   "outputs": [
    {
     "name": "stdout",
     "output_type": "stream",
     "text": [
      "<class 'pandas.core.frame.DataFrame'>\n",
      "RangeIndex: 6237 entries, 0 to 6236\n",
      "Data columns (total 9 columns):\n",
      " #   Column        Non-Null Count  Dtype  \n",
      "---  ------        --------------  -----  \n",
      " 0   Title         6237 non-null   object \n",
      " 1   Author        6237 non-null   object \n",
      " 2   Edition       6237 non-null   object \n",
      " 3   Reviews       6237 non-null   object \n",
      " 4   Ratings       6237 non-null   object \n",
      " 5   Synopsis      6237 non-null   object \n",
      " 6   Genre         6237 non-null   object \n",
      " 7   BookCategory  6237 non-null   object \n",
      " 8   Price         6237 non-null   float64\n",
      "dtypes: float64(1), object(8)\n",
      "memory usage: 438.7+ KB\n"
     ]
    }
   ],
   "source": [
    "df.info()"
   ]
  },
  {
   "cell_type": "code",
   "execution_count": 5,
   "id": "3dad5f96",
   "metadata": {},
   "outputs": [
    {
     "data": {
      "text/plain": [
       "Title           0\n",
       "Author          0\n",
       "Edition         0\n",
       "Reviews         0\n",
       "Ratings         0\n",
       "Synopsis        0\n",
       "Genre           0\n",
       "BookCategory    0\n",
       "Price           0\n",
       "dtype: int64"
      ]
     },
     "execution_count": 5,
     "metadata": {},
     "output_type": "execute_result"
    }
   ],
   "source": [
    "df.isnull().sum()"
   ]
  },
  {
   "cell_type": "code",
   "execution_count": 6,
   "id": "41bd7009",
   "metadata": {},
   "outputs": [
    {
     "data": {
      "text/plain": [
       "Title           5568\n",
       "Author          3679\n",
       "Edition         3370\n",
       "Reviews           36\n",
       "Ratings          342\n",
       "Synopsis        5549\n",
       "Genre            345\n",
       "BookCategory      11\n",
       "Price           1614\n",
       "dtype: int64"
      ]
     },
     "execution_count": 6,
     "metadata": {},
     "output_type": "execute_result"
    }
   ],
   "source": [
    "#to get no.of unique values in dataset\n",
    "df.nunique(axis=0)"
   ]
  },
  {
   "cell_type": "code",
   "execution_count": 7,
   "id": "f9ec1487",
   "metadata": {},
   "outputs": [
    {
     "data": {
      "text/plain": [
       "6197    4.6 out of 5 stars\n",
       "6198    4.2 out of 5 stars\n",
       "6199    3.6 out of 5 stars\n",
       "6200    4.3 out of 5 stars\n",
       "6201    3.8 out of 5 stars\n",
       "6202    4.6 out of 5 stars\n",
       "6203    4.3 out of 5 stars\n",
       "6204    3.7 out of 5 stars\n",
       "6205    4.3 out of 5 stars\n",
       "6206    4.6 out of 5 stars\n",
       "6207    4.9 out of 5 stars\n",
       "6208    3.9 out of 5 stars\n",
       "6209    4.9 out of 5 stars\n",
       "6210    3.3 out of 5 stars\n",
       "6211    4.0 out of 5 stars\n",
       "6212    4.4 out of 5 stars\n",
       "6213    5.0 out of 5 stars\n",
       "6214    1.0 out of 5 stars\n",
       "6215    4.7 out of 5 stars\n",
       "6216    4.4 out of 5 stars\n",
       "6217    4.2 out of 5 stars\n",
       "6218    5.0 out of 5 stars\n",
       "6219    4.2 out of 5 stars\n",
       "6220    5.0 out of 5 stars\n",
       "6221    4.6 out of 5 stars\n",
       "6222    5.0 out of 5 stars\n",
       "6223    4.4 out of 5 stars\n",
       "6224    3.8 out of 5 stars\n",
       "6225    4.6 out of 5 stars\n",
       "6226    3.7 out of 5 stars\n",
       "6227    4.7 out of 5 stars\n",
       "6228    3.3 out of 5 stars\n",
       "6229    4.1 out of 5 stars\n",
       "6230    4.9 out of 5 stars\n",
       "6231    4.1 out of 5 stars\n",
       "6232    5.0 out of 5 stars\n",
       "6233    3.3 out of 5 stars\n",
       "6234    3.8 out of 5 stars\n",
       "6235    3.5 out of 5 stars\n",
       "6236    3.9 out of 5 stars\n",
       "Name: Reviews, dtype: object"
      ]
     },
     "execution_count": 7,
     "metadata": {},
     "output_type": "execute_result"
    }
   ],
   "source": [
    "df['Reviews'].tail(40)"
   ]
  },
  {
   "cell_type": "code",
   "execution_count": 8,
   "id": "dde361c0",
   "metadata": {},
   "outputs": [],
   "source": [
    "#Cleaning the Reviews column\n",
    "df['Reviews']=[x[:3] for x in df['Reviews']]"
   ]
  },
  {
   "cell_type": "code",
   "execution_count": 9,
   "id": "d6d7672f",
   "metadata": {},
   "outputs": [
    {
     "data": {
      "text/plain": [
       "0       4.0\n",
       "1       3.9\n",
       "2       4.8\n",
       "3       4.1\n",
       "4       5.0\n",
       "       ... \n",
       "6232    5.0\n",
       "6233    3.3\n",
       "6234    3.8\n",
       "6235    3.5\n",
       "6236    3.9\n",
       "Name: Reviews, Length: 6237, dtype: object"
      ]
     },
     "execution_count": 9,
     "metadata": {},
     "output_type": "execute_result"
    }
   ],
   "source": [
    "df['Reviews']"
   ]
  },
  {
   "cell_type": "code",
   "execution_count": 10,
   "id": "5edcef29",
   "metadata": {},
   "outputs": [
    {
     "data": {
      "text/plain": [
       "dtype('O')"
      ]
     },
     "execution_count": 10,
     "metadata": {},
     "output_type": "execute_result"
    }
   ],
   "source": [
    "df['Reviews'].dtype"
   ]
  },
  {
   "cell_type": "code",
   "execution_count": 11,
   "id": "96dec756",
   "metadata": {},
   "outputs": [],
   "source": [
    "#Converting the datatype to float\n",
    "df['Reviews']=df['Reviews'].astype(float)"
   ]
  },
  {
   "cell_type": "code",
   "execution_count": 12,
   "id": "e5afeb08",
   "metadata": {},
   "outputs": [
    {
     "data": {
      "text/plain": [
       "dtype('float64')"
      ]
     },
     "execution_count": 12,
     "metadata": {},
     "output_type": "execute_result"
    }
   ],
   "source": [
    "df['Reviews'].dtype"
   ]
  },
  {
   "cell_type": "code",
   "execution_count": 13,
   "id": "6eb8e3ed",
   "metadata": {},
   "outputs": [
    {
     "data": {
      "text/plain": [
       "0       8 customer reviews\n",
       "1      14 customer reviews\n",
       "2       6 customer reviews\n",
       "3      13 customer reviews\n",
       "4        1 customer review\n",
       "5       8 customer reviews\n",
       "6      72 customer reviews\n",
       "7      16 customer reviews\n",
       "8     111 customer reviews\n",
       "9        1 customer review\n",
       "10    132 customer reviews\n",
       "11     17 customer reviews\n",
       "12      4 customer reviews\n",
       "13      3 customer reviews\n",
       "14      5 customer reviews\n",
       "15      2 customer reviews\n",
       "16       1 customer review\n",
       "17     23 customer reviews\n",
       "18     76 customer reviews\n",
       "19      5 customer reviews\n",
       "Name: Ratings, dtype: object"
      ]
     },
     "execution_count": 13,
     "metadata": {},
     "output_type": "execute_result"
    }
   ],
   "source": [
    "df['Ratings'].head(20)"
   ]
  },
  {
   "cell_type": "code",
   "execution_count": 14,
   "id": "c4569f13",
   "metadata": {},
   "outputs": [
    {
     "data": {
      "text/plain": [
       "6217     38 customer reviews\n",
       "6218       1 customer review\n",
       "6219     39 customer reviews\n",
       "6220       1 customer review\n",
       "6221    230 customer reviews\n",
       "6222      2 customer reviews\n",
       "6223    902 customer reviews\n",
       "6224      6 customer reviews\n",
       "6225      3 customer reviews\n",
       "6226      8 customer reviews\n",
       "6227      7 customer reviews\n",
       "6228     21 customer reviews\n",
       "6229     29 customer reviews\n",
       "6230     20 customer reviews\n",
       "6231    407 customer reviews\n",
       "6232      2 customer reviews\n",
       "6233      9 customer reviews\n",
       "6234      3 customer reviews\n",
       "6235      4 customer reviews\n",
       "6236      2 customer reviews\n",
       "Name: Ratings, dtype: object"
      ]
     },
     "execution_count": 14,
     "metadata": {},
     "output_type": "execute_result"
    }
   ],
   "source": [
    "df['Ratings'].tail(20)"
   ]
  },
  {
   "cell_type": "code",
   "execution_count": 15,
   "id": "ea27de3d",
   "metadata": {},
   "outputs": [],
   "source": [
    "df['Ratings']=[x[:-17] if(x[1]!=' ') else x[:-16] for x in df['Ratings']]"
   ]
  },
  {
   "cell_type": "code",
   "execution_count": 16,
   "id": "891f5713",
   "metadata": {},
   "outputs": [
    {
     "data": {
      "text/plain": [
       "0       8 \n",
       "1       14\n",
       "2       6 \n",
       "3       13\n",
       "4        1\n",
       "        ..\n",
       "6232    2 \n",
       "6233    9 \n",
       "6234    3 \n",
       "6235    4 \n",
       "6236    2 \n",
       "Name: Ratings, Length: 6237, dtype: object"
      ]
     },
     "execution_count": 16,
     "metadata": {},
     "output_type": "execute_result"
    }
   ],
   "source": [
    "df['Ratings']"
   ]
  },
  {
   "cell_type": "code",
   "execution_count": 17,
   "id": "c3758035",
   "metadata": {},
   "outputs": [],
   "source": [
    "#Finding maximum length of Ratings column.\n",
    "l1=[len(x) for x in df['Ratings']]"
   ]
  },
  {
   "cell_type": "code",
   "execution_count": 18,
   "id": "75eebd56",
   "metadata": {},
   "outputs": [
    {
     "data": {
      "text/plain": [
       "5"
      ]
     },
     "execution_count": 18,
     "metadata": {},
     "output_type": "execute_result"
    }
   ],
   "source": [
    "max(l1)"
   ]
  },
  {
   "cell_type": "code",
   "execution_count": 19,
   "id": "29953c6d",
   "metadata": {},
   "outputs": [],
   "source": [
    "#So, we have 5 digit number in ratings for somebooks\n",
    "l1=[x for x in df['Ratings'] if len(x)>3]"
   ]
  },
  {
   "cell_type": "code",
   "execution_count": 20,
   "id": "62751bcc",
   "metadata": {},
   "outputs": [
    {
     "data": {
      "text/plain": [
       "['1,416',\n",
       " '1,558',\n",
       " '1,142',\n",
       " '2,048',\n",
       " '1,097',\n",
       " '2,081',\n",
       " '2,084',\n",
       " '6,090',\n",
       " '1,227',\n",
       " '3,135',\n",
       " '1,392',\n",
       " '1,684',\n",
       " '1,403',\n",
       " '1,248',\n",
       " '1,563',\n",
       " '1,259',\n",
       " '2,255',\n",
       " '3,075',\n",
       " '1,256',\n",
       " '1,416']"
      ]
     },
     "execution_count": 20,
     "metadata": {},
     "output_type": "execute_result"
    }
   ],
   "source": [
    "l1"
   ]
  },
  {
   "cell_type": "code",
   "execution_count": 21,
   "id": "24ad8498",
   "metadata": {},
   "outputs": [],
   "source": [
    "# here we have , to the number/ we need to remove the , to convert the dtype to int\n",
    "df['Ratings']=[x.replace(\",\",\"\") if(len(x)>3) else x for x in df['Ratings']]"
   ]
  },
  {
   "cell_type": "code",
   "execution_count": 22,
   "id": "66ebb281",
   "metadata": {},
   "outputs": [
    {
     "data": {
      "text/plain": [
       "['1416',\n",
       " '1558',\n",
       " '1142',\n",
       " '2048',\n",
       " '1097',\n",
       " '2081',\n",
       " '2084',\n",
       " '6090',\n",
       " '1227',\n",
       " '3135',\n",
       " '1392',\n",
       " '1684',\n",
       " '1403',\n",
       " '1248',\n",
       " '1563',\n",
       " '1259',\n",
       " '2255',\n",
       " '3075',\n",
       " '1256',\n",
       " '1416']"
      ]
     },
     "execution_count": 22,
     "metadata": {},
     "output_type": "execute_result"
    }
   ],
   "source": [
    "[x for x in df['Ratings'] if len(x)>3]"
   ]
  },
  {
   "cell_type": "code",
   "execution_count": 23,
   "id": "2345659c",
   "metadata": {},
   "outputs": [
    {
     "data": {
      "text/plain": [
       "dtype('O')"
      ]
     },
     "execution_count": 23,
     "metadata": {},
     "output_type": "execute_result"
    }
   ],
   "source": [
    "df['Ratings'].dtype"
   ]
  },
  {
   "cell_type": "code",
   "execution_count": 24,
   "id": "5380bbec",
   "metadata": {},
   "outputs": [],
   "source": [
    "df['Ratings']=df['Ratings'].astype(int)"
   ]
  },
  {
   "cell_type": "code",
   "execution_count": 25,
   "id": "9e285230",
   "metadata": {},
   "outputs": [
    {
     "data": {
      "text/plain": [
       "dtype('int32')"
      ]
     },
     "execution_count": 25,
     "metadata": {},
     "output_type": "execute_result"
    }
   ],
   "source": [
    "df['Ratings'].dtype"
   ]
  },
  {
   "cell_type": "code",
   "execution_count": 26,
   "id": "04d6fafa",
   "metadata": {},
   "outputs": [
    {
     "data": {
      "text/html": [
       "<div>\n",
       "<style scoped>\n",
       "    .dataframe tbody tr th:only-of-type {\n",
       "        vertical-align: middle;\n",
       "    }\n",
       "\n",
       "    .dataframe tbody tr th {\n",
       "        vertical-align: top;\n",
       "    }\n",
       "\n",
       "    .dataframe thead th {\n",
       "        text-align: right;\n",
       "    }\n",
       "</style>\n",
       "<table border=\"1\" class=\"dataframe\">\n",
       "  <thead>\n",
       "    <tr style=\"text-align: right;\">\n",
       "      <th></th>\n",
       "      <th>Title</th>\n",
       "      <th>Author</th>\n",
       "      <th>Edition</th>\n",
       "      <th>Reviews</th>\n",
       "      <th>Ratings</th>\n",
       "      <th>Synopsis</th>\n",
       "      <th>Genre</th>\n",
       "      <th>BookCategory</th>\n",
       "      <th>Price</th>\n",
       "    </tr>\n",
       "  </thead>\n",
       "  <tbody>\n",
       "    <tr>\n",
       "      <th>0</th>\n",
       "      <td>The Prisoner's Gold (The Hunters 3)</td>\n",
       "      <td>Chris Kuzneski</td>\n",
       "      <td>Paperback,– 10 Mar 2016</td>\n",
       "      <td>4.0</td>\n",
       "      <td>8</td>\n",
       "      <td>THE HUNTERS return in their third brilliant no...</td>\n",
       "      <td>Action &amp; Adventure (Books)</td>\n",
       "      <td>Action &amp; Adventure</td>\n",
       "      <td>220.00</td>\n",
       "    </tr>\n",
       "    <tr>\n",
       "      <th>1</th>\n",
       "      <td>Guru Dutt: A Tragedy in Three Acts</td>\n",
       "      <td>Arun Khopkar</td>\n",
       "      <td>Paperback,– 7 Nov 2012</td>\n",
       "      <td>3.9</td>\n",
       "      <td>14</td>\n",
       "      <td>A layered portrait of a troubled genius for wh...</td>\n",
       "      <td>Cinema &amp; Broadcast (Books)</td>\n",
       "      <td>Biographies, Diaries &amp; True Accounts</td>\n",
       "      <td>202.93</td>\n",
       "    </tr>\n",
       "    <tr>\n",
       "      <th>2</th>\n",
       "      <td>Leviathan (Penguin Classics)</td>\n",
       "      <td>Thomas Hobbes</td>\n",
       "      <td>Paperback,– 25 Feb 1982</td>\n",
       "      <td>4.8</td>\n",
       "      <td>6</td>\n",
       "      <td>\"During the time men live without a common Pow...</td>\n",
       "      <td>International Relations</td>\n",
       "      <td>Humour</td>\n",
       "      <td>299.00</td>\n",
       "    </tr>\n",
       "    <tr>\n",
       "      <th>3</th>\n",
       "      <td>A Pocket Full of Rye (Miss Marple)</td>\n",
       "      <td>Agatha Christie</td>\n",
       "      <td>Paperback,– 5 Oct 2017</td>\n",
       "      <td>4.1</td>\n",
       "      <td>13</td>\n",
       "      <td>A handful of grain is found in the pocket of a...</td>\n",
       "      <td>Contemporary Fiction (Books)</td>\n",
       "      <td>Crime, Thriller &amp; Mystery</td>\n",
       "      <td>180.00</td>\n",
       "    </tr>\n",
       "    <tr>\n",
       "      <th>4</th>\n",
       "      <td>LIFE 70 Years of Extraordinary Photography</td>\n",
       "      <td>Editors of Life</td>\n",
       "      <td>Hardcover,– 10 Oct 2006</td>\n",
       "      <td>5.0</td>\n",
       "      <td>1</td>\n",
       "      <td>For seven decades, \"Life\" has been thrilling t...</td>\n",
       "      <td>Photography Textbooks</td>\n",
       "      <td>Arts, Film &amp; Photography</td>\n",
       "      <td>965.62</td>\n",
       "    </tr>\n",
       "  </tbody>\n",
       "</table>\n",
       "</div>"
      ],
      "text/plain": [
       "                                        Title           Author  \\\n",
       "0         The Prisoner's Gold (The Hunters 3)   Chris Kuzneski   \n",
       "1          Guru Dutt: A Tragedy in Three Acts     Arun Khopkar   \n",
       "2                Leviathan (Penguin Classics)    Thomas Hobbes   \n",
       "3          A Pocket Full of Rye (Miss Marple)  Agatha Christie   \n",
       "4  LIFE 70 Years of Extraordinary Photography  Editors of Life   \n",
       "\n",
       "                   Edition  Reviews  Ratings  \\\n",
       "0  Paperback,– 10 Mar 2016      4.0        8   \n",
       "1   Paperback,– 7 Nov 2012      3.9       14   \n",
       "2  Paperback,– 25 Feb 1982      4.8        6   \n",
       "3   Paperback,– 5 Oct 2017      4.1       13   \n",
       "4  Hardcover,– 10 Oct 2006      5.0        1   \n",
       "\n",
       "                                            Synopsis  \\\n",
       "0  THE HUNTERS return in their third brilliant no...   \n",
       "1  A layered portrait of a troubled genius for wh...   \n",
       "2  \"During the time men live without a common Pow...   \n",
       "3  A handful of grain is found in the pocket of a...   \n",
       "4  For seven decades, \"Life\" has been thrilling t...   \n",
       "\n",
       "                          Genre                          BookCategory   Price  \n",
       "0    Action & Adventure (Books)                    Action & Adventure  220.00  \n",
       "1    Cinema & Broadcast (Books)  Biographies, Diaries & True Accounts  202.93  \n",
       "2       International Relations                                Humour  299.00  \n",
       "3  Contemporary Fiction (Books)             Crime, Thriller & Mystery  180.00  \n",
       "4         Photography Textbooks              Arts, Film & Photography  965.62  "
      ]
     },
     "execution_count": 26,
     "metadata": {},
     "output_type": "execute_result"
    }
   ],
   "source": [
    "df.head()"
   ]
  },
  {
   "cell_type": "code",
   "execution_count": 27,
   "id": "face3154",
   "metadata": {},
   "outputs": [
    {
     "data": {
      "text/plain": [
       "Action & Adventure                      818\n",
       "Crime, Thriller & Mystery               723\n",
       "Biographies, Diaries & True Accounts    596\n",
       "Language, Linguistics & Writing         594\n",
       "Comics & Mangas                         583\n",
       "Romance                                 560\n",
       "Humour                                  540\n",
       "Arts, Film & Photography                517\n",
       "Computing, Internet & Digital Media     510\n",
       "Sports                                  471\n",
       "Politics                                325\n",
       "Name: BookCategory, dtype: int64"
      ]
     },
     "execution_count": 27,
     "metadata": {},
     "output_type": "execute_result"
    }
   ],
   "source": [
    "df['BookCategory'].value_counts()\n",
    "#discreate variable"
   ]
  },
  {
   "cell_type": "code",
   "execution_count": 28,
   "id": "b741dcc3",
   "metadata": {},
   "outputs": [
    {
     "data": {
      "text/plain": [
       "0                  Paperback,– 10 Mar 2016\n",
       "1                   Paperback,– 7 Nov 2012\n",
       "2                  Paperback,– 25 Feb 1982\n",
       "3                   Paperback,– 5 Oct 2017\n",
       "4                  Hardcover,– 10 Oct 2006\n",
       "5                   Paperback,– 5 May 2009\n",
       "6                   Paperback,– 5 Oct 2017\n",
       "7           Hardcover,– Import, 1 Mar 2018\n",
       "8                  Paperback,– 15 Dec 2015\n",
       "9                  Paperback,– 26 Mar 2013\n",
       "10                 Paperback,– 20 Jan 2017\n",
       "11         Paperback,– Import, 14 Jun 2018\n",
       "12                  Paperback,– 1 Jul 1999\n",
       "13                 Paperback,– 15 Nov 2002\n",
       "14                  Paperback,– 1 Sep 2011\n",
       "15                 Paperback,– 26 Feb 2015\n",
       "16                  Hardcover,– 8 Mar 2018\n",
       "17                  Paperback,– 1 Nov 2016\n",
       "18      Mass Market Paperback,– 1 Jan 1991\n",
       "19                        Paperback,– 2016\n",
       "20                 Hardcover,– 24 Nov 2018\n",
       "21          Paperback,– Import, 4 Oct 2018\n",
       "22                  Paperback,– 5 Jul 2012\n",
       "23                  Paperback,– 1 Nov 2014\n",
       "24                 Paperback,– 31 Aug 2012\n",
       "25    Hardcover,– Deckle Edge, 18 Oct 2011\n",
       "26                  Paperback,– 1 Mar 2016\n",
       "27        Paperback,– Box set, 15 Jun 2014\n",
       "28                 Hardcover,– 15 Sep 2014\n",
       "29                 Paperback,– 23 Apr 1989\n",
       "30                 Paperback,– 21 Nov 2013\n",
       "31                 Paperback,– 21 Jul 2015\n",
       "32                 Paperback,– 14 Oct 2000\n",
       "33                  Paperback,– 5 Sep 2005\n",
       "34                 Hardcover,– 10 May 2016\n",
       "35                        Paperback,– 2019\n",
       "36                 Paperback,– 11 Jun 2014\n",
       "37                 Paperback,– 17 Apr 2009\n",
       "38                 Paperback,– 30 Nov 2006\n",
       "39                  Paperback,– 1 Dec 2013\n",
       "Name: Edition, dtype: object"
      ]
     },
     "execution_count": 28,
     "metadata": {},
     "output_type": "execute_result"
    }
   ],
   "source": [
    "df['Edition'].head(40)"
   ]
  },
  {
   "cell_type": "code",
   "execution_count": 29,
   "id": "c0acd17d",
   "metadata": {},
   "outputs": [],
   "source": [
    "df['Edition_Year'] = df['Edition'].apply(lambda x: x.split()[-1] if x.split()[-1].isdigit() else 'na')"
   ]
  },
  {
   "cell_type": "code",
   "execution_count": 30,
   "id": "5cf32c06",
   "metadata": {},
   "outputs": [],
   "source": [
    "df['Edition_Type'] = df['Edition'].apply(lambda x: x.split(',– ')[0])"
   ]
  },
  {
   "cell_type": "code",
   "execution_count": 31,
   "id": "a1cbbed6",
   "metadata": {},
   "outputs": [
    {
     "data": {
      "text/plain": [
       "Paperback                5193\n",
       "Hardcover                 823\n",
       "Mass Market Paperback     155\n",
       "Sheet music                24\n",
       "Flexibound                 15\n",
       "Cards                       8\n",
       "Spiral-bound                4\n",
       "Tankobon Softcover          3\n",
       "Loose Leaf                  2\n",
       "Library Binding             1\n",
       "(French),Paperback          1\n",
       "Leather Bound               1\n",
       "(German),Paperback          1\n",
       "Board book                  1\n",
       "Product Bundle              1\n",
       "(Kannada),Paperback         1\n",
       "Perfect Paperback           1\n",
       "Plastic Comb                1\n",
       "(Spanish),Paperback         1\n",
       "Name: Edition_Type, dtype: int64"
      ]
     },
     "execution_count": 31,
     "metadata": {},
     "output_type": "execute_result"
    }
   ],
   "source": [
    "df['Edition_Type'].value_counts()"
   ]
  },
  {
   "cell_type": "code",
   "execution_count": 32,
   "id": "5f94cd4a",
   "metadata": {},
   "outputs": [],
   "source": [
    "#Merging categories with small value counts\n",
    "l=['Paperback','Hardcover','Mass Market Paperback']\n",
    "df['Edition_Type'] = df['Edition_Type'].apply(lambda x: x if x in l else 'others')"
   ]
  },
  {
   "cell_type": "code",
   "execution_count": 33,
   "id": "f242fedf",
   "metadata": {},
   "outputs": [
    {
     "data": {
      "text/plain": [
       "Paperback                5193\n",
       "Hardcover                 823\n",
       "Mass Market Paperback     155\n",
       "others                     66\n",
       "Name: Edition_Type, dtype: int64"
      ]
     },
     "execution_count": 33,
     "metadata": {},
     "output_type": "execute_result"
    }
   ],
   "source": [
    "df['Edition_Type'].value_counts()"
   ]
  },
  {
   "cell_type": "code",
   "execution_count": 34,
   "id": "290fbd17",
   "metadata": {},
   "outputs": [
    {
     "data": {
      "text/plain": [
       "dtype('O')"
      ]
     },
     "execution_count": 34,
     "metadata": {},
     "output_type": "execute_result"
    }
   ],
   "source": [
    "df['Edition_Year'].dtype"
   ]
  },
  {
   "cell_type": "code",
   "execution_count": 35,
   "id": "6f262797",
   "metadata": {},
   "outputs": [],
   "source": [
    "df['Edition_Year']=df['Edition_Year'].astype('category')"
   ]
  },
  {
   "cell_type": "code",
   "execution_count": 36,
   "id": "cc85a1db",
   "metadata": {},
   "outputs": [
    {
     "data": {
      "text/plain": [
       "0                     Action & Adventure (Books)\n",
       "1                     Cinema & Broadcast (Books)\n",
       "2                        International Relations\n",
       "3                   Contemporary Fiction (Books)\n",
       "4                          Photography Textbooks\n",
       "5              Healthy Living & Wellness (Books)\n",
       "6              Crime, Thriller & Mystery (Books)\n",
       "7             Sports Training & Coaching (Books)\n",
       "8          Biographies & Autobiographies (Books)\n",
       "9                     Action & Adventure (Books)\n",
       "10                                 Asian History\n",
       "11                               Banks & Banking\n",
       "12                    Action & Adventure (Books)\n",
       "13                                 Asian History\n",
       "14                    Action & Adventure (Books)\n",
       "15                       Comics & Mangas (Books)\n",
       "16    Children's Mysteries & Curiosities (Books)\n",
       "17                                        Mangas\n",
       "18         Biographies & Autobiographies (Books)\n",
       "19                       Artificial Intelligence\n",
       "Name: Genre, dtype: object"
      ]
     },
     "execution_count": 36,
     "metadata": {},
     "output_type": "execute_result"
    }
   ],
   "source": [
    "df['Genre'].head(20)"
   ]
  },
  {
   "cell_type": "code",
   "execution_count": 37,
   "id": "146d40b5",
   "metadata": {},
   "outputs": [],
   "source": [
    "df['Genre'] = df['Genre'].apply(lambda x: x.replace('(Books)', ''))"
   ]
  },
  {
   "cell_type": "code",
   "execution_count": 38,
   "id": "7eb7ffe7",
   "metadata": {},
   "outputs": [
    {
     "data": {
      "text/plain": [
       "0               Action & Adventure \n",
       "1               Cinema & Broadcast \n",
       "2           International Relations\n",
       "3             Contemporary Fiction \n",
       "4             Photography Textbooks\n",
       "5        Healthy Living & Wellness \n",
       "6        Crime, Thriller & Mystery \n",
       "7       Sports Training & Coaching \n",
       "8    Biographies & Autobiographies \n",
       "9               Action & Adventure \n",
       "Name: Genre, dtype: object"
      ]
     },
     "execution_count": 38,
     "metadata": {},
     "output_type": "execute_result"
    }
   ],
   "source": [
    "df['Genre'].head(10)"
   ]
  },
  {
   "cell_type": "code",
   "execution_count": 39,
   "id": "2e3e6aa5",
   "metadata": {},
   "outputs": [
    {
     "data": {
      "text/plain": [
       "345"
      ]
     },
     "execution_count": 39,
     "metadata": {},
     "output_type": "execute_result"
    }
   ],
   "source": [
    "df['Genre'].nunique()"
   ]
  },
  {
   "cell_type": "code",
   "execution_count": 40,
   "id": "d17c7220",
   "metadata": {},
   "outputs": [
    {
     "data": {
      "text/plain": [
       "'\"During the time men live without a common Power to keep them all in awe, they are in that condition which is called Warre\"\\n\\nWritten during the turmoil of the English Civil War, Leviathan is an ambitious and highly original work of political philosophy. Claiming that man\\'s essential nature is competitive and selfish, Hobbes formulates the case for a powerful sovereign—or \"Leviathan\"—to enforce peace and the law, substituting security for the anarchic freedom he believed human beings would otherwise experience. This worldview shocked many of Hobbes\\'s contemporaries, and his work was publicly burnt for sedition and blasphemy when it was first published. But in his rejection of Aristotle\\'s view of man as a naturally social being, and in his painstaking analysis of the ways in which society can and should function, Hobbes opened up a whole new world of political science.\\n\\nBased on the original 1651 text, this edition incorporates Hobbes\\'s own corrections, while also retaining the original spelling and punctuation, to read with vividness and clarity. C. B. Macpherson\\'s introduction elucidates one of the most fascinating works of modern philosophy for the general reader.\\n\\nFor more than seventy years, Penguin has been the leading publisher of classic literature in the English-speaking world. With more than 1,700 titles, Penguin Classics represents a global bookshelf of the best works throughout history and across genres and disciplines. Readers trust the series to provide authoritative texts enhanced by introductions and notes by distinguished scholars and contemporary authors, as well as up-to-date translations by award-winning translators.'"
      ]
     },
     "execution_count": 40,
     "metadata": {},
     "output_type": "execute_result"
    }
   ],
   "source": [
    "df['Synopsis'][2]"
   ]
  },
  {
   "cell_type": "code",
   "execution_count": 41,
   "id": "7baa2037",
   "metadata": {},
   "outputs": [],
   "source": [
    "df.Synopsis = df.Synopsis.apply(lambda x: \" \".join(x.lower() for x in x.split()))\n",
    "df.Synopsis = df.Synopsis.apply(lambda x: ' '.join(x for x in x.split() if x.isalnum()))\n",
    "\n",
    "stop = stopwords.words('english')\n",
    "df.Synopsis = df.Synopsis.apply(lambda x: \" \".join(x for x in x.split() if x not in stop))\n",
    "\n",
    "st = PorterStemmer()\n",
    "df.Synopsis = df.Synopsis.apply(lambda x: \" \".join([st.stem(word) for word in x.split()]))"
   ]
  },
  {
   "cell_type": "code",
   "execution_count": 42,
   "id": "5d6af322",
   "metadata": {},
   "outputs": [
    {
     "data": {
      "text/plain": [
       "'time men live without common power keep condit call written turmoil english civil leviathan ambiti highli origin work polit claim essenti natur competit hobb formul case power enforc peac substitut secur anarch freedom believ human be would otherwis worldview shock mani work publicli burnt sedit blasphemi first reject view man natur social painstak analysi way societi hobb open whole new world polit base origin 1651 edit incorpor also retain origin spell read vivid introduct elucid one fascin work modern philosophi gener seventi penguin lead publish classic literatur penguin classic repres global bookshelf best work throughout histori across genr reader trust seri provid authorit text enhanc introduct note distinguish scholar contemporari well translat'"
      ]
     },
     "execution_count": 42,
     "metadata": {},
     "output_type": "execute_result"
    }
   ],
   "source": [
    "df['Synopsis'][2]"
   ]
  },
  {
   "cell_type": "code",
   "execution_count": 43,
   "id": "098e6eb3",
   "metadata": {},
   "outputs": [],
   "source": [
    "df['Sentiment'] = df.Synopsis.apply(lambda tweet: TextBlob(tweet).sentiment)"
   ]
  },
  {
   "cell_type": "code",
   "execution_count": 44,
   "id": "58381d75",
   "metadata": {},
   "outputs": [
    {
     "data": {
      "text/plain": [
       "0          (0.2818181818181818, 0.4949494949494949)\n",
       "1        (0.09685314685314683, 0.39137529137529137)\n",
       "2        (0.08214962121212122, 0.34611742424242425)\n",
       "3                                       (0.0, 0.25)\n",
       "4                        (0.5599999999999999, 0.61)\n",
       "                           ...                     \n",
       "6232     (0.03531746031746033, 0.29761904761904767)\n",
       "6233    (-0.03761363636363636, 0.45920454545454537)\n",
       "6234       (0.3336363636363636, 0.3754545454545455)\n",
       "6235     (0.23095238095238096, 0.42857142857142866)\n",
       "6236      (0.10555555555555556, 0.3861111111111111)\n",
       "Name: Sentiment, Length: 6237, dtype: object"
      ]
     },
     "execution_count": 44,
     "metadata": {},
     "output_type": "execute_result"
    }
   ],
   "source": [
    "df['Sentiment']"
   ]
  },
  {
   "cell_type": "code",
   "execution_count": 45,
   "id": "b2aca8b9",
   "metadata": {},
   "outputs": [],
   "source": [
    "sentiment_series = df['Sentiment'].tolist()\n",
    "columns = ['polarity', 'subjectivity']\n",
    "\n",
    "df1 = pd.DataFrame(sentiment_series, columns=columns, index=df.index)\n",
    "\n",
    "df['polarity'] = df1['polarity']\n",
    "df['subjectivity'] = df1['subjectivity']"
   ]
  },
  {
   "cell_type": "code",
   "execution_count": 46,
   "id": "bb19543e",
   "metadata": {},
   "outputs": [
    {
     "data": {
      "text/html": [
       "<div>\n",
       "<style scoped>\n",
       "    .dataframe tbody tr th:only-of-type {\n",
       "        vertical-align: middle;\n",
       "    }\n",
       "\n",
       "    .dataframe tbody tr th {\n",
       "        vertical-align: top;\n",
       "    }\n",
       "\n",
       "    .dataframe thead th {\n",
       "        text-align: right;\n",
       "    }\n",
       "</style>\n",
       "<table border=\"1\" class=\"dataframe\">\n",
       "  <thead>\n",
       "    <tr style=\"text-align: right;\">\n",
       "      <th></th>\n",
       "      <th>Title</th>\n",
       "      <th>Author</th>\n",
       "      <th>Edition</th>\n",
       "      <th>Reviews</th>\n",
       "      <th>Ratings</th>\n",
       "      <th>Synopsis</th>\n",
       "      <th>Genre</th>\n",
       "      <th>BookCategory</th>\n",
       "      <th>Price</th>\n",
       "      <th>Edition_Year</th>\n",
       "      <th>Edition_Type</th>\n",
       "      <th>Sentiment</th>\n",
       "      <th>polarity</th>\n",
       "      <th>subjectivity</th>\n",
       "    </tr>\n",
       "  </thead>\n",
       "  <tbody>\n",
       "    <tr>\n",
       "      <th>0</th>\n",
       "      <td>The Prisoner's Gold (The Hunters 3)</td>\n",
       "      <td>Chris Kuzneski</td>\n",
       "      <td>Paperback,– 10 Mar 2016</td>\n",
       "      <td>4.0</td>\n",
       "      <td>8</td>\n",
       "      <td>hunter return third brilliant novel sunday tim...</td>\n",
       "      <td>Action &amp; Adventure</td>\n",
       "      <td>Action &amp; Adventure</td>\n",
       "      <td>220.00</td>\n",
       "      <td>2016</td>\n",
       "      <td>Paperback</td>\n",
       "      <td>(0.2818181818181818, 0.4949494949494949)</td>\n",
       "      <td>0.281818</td>\n",
       "      <td>0.494949</td>\n",
       "    </tr>\n",
       "    <tr>\n",
       "      <th>1</th>\n",
       "      <td>Guru Dutt: A Tragedy in Three Acts</td>\n",
       "      <td>Arun Khopkar</td>\n",
       "      <td>Paperback,– 7 Nov 2012</td>\n",
       "      <td>3.9</td>\n",
       "      <td>14</td>\n",
       "      <td>layer portrait troubl geniu art mere thing bea...</td>\n",
       "      <td>Cinema &amp; Broadcast</td>\n",
       "      <td>Biographies, Diaries &amp; True Accounts</td>\n",
       "      <td>202.93</td>\n",
       "      <td>2012</td>\n",
       "      <td>Paperback</td>\n",
       "      <td>(0.09685314685314683, 0.39137529137529137)</td>\n",
       "      <td>0.096853</td>\n",
       "      <td>0.391375</td>\n",
       "    </tr>\n",
       "    <tr>\n",
       "      <th>2</th>\n",
       "      <td>Leviathan (Penguin Classics)</td>\n",
       "      <td>Thomas Hobbes</td>\n",
       "      <td>Paperback,– 25 Feb 1982</td>\n",
       "      <td>4.8</td>\n",
       "      <td>6</td>\n",
       "      <td>time men live without common power keep condit...</td>\n",
       "      <td>International Relations</td>\n",
       "      <td>Humour</td>\n",
       "      <td>299.00</td>\n",
       "      <td>1982</td>\n",
       "      <td>Paperback</td>\n",
       "      <td>(0.08214962121212122, 0.34611742424242425)</td>\n",
       "      <td>0.082150</td>\n",
       "      <td>0.346117</td>\n",
       "    </tr>\n",
       "    <tr>\n",
       "      <th>3</th>\n",
       "      <td>A Pocket Full of Rye (Miss Marple)</td>\n",
       "      <td>Agatha Christie</td>\n",
       "      <td>Paperback,– 5 Oct 2017</td>\n",
       "      <td>4.1</td>\n",
       "      <td>13</td>\n",
       "      <td>hand grain found pocket murder rex king financ...</td>\n",
       "      <td>Contemporary Fiction</td>\n",
       "      <td>Crime, Thriller &amp; Mystery</td>\n",
       "      <td>180.00</td>\n",
       "      <td>2017</td>\n",
       "      <td>Paperback</td>\n",
       "      <td>(0.0, 0.25)</td>\n",
       "      <td>0.000000</td>\n",
       "      <td>0.250000</td>\n",
       "    </tr>\n",
       "    <tr>\n",
       "      <th>4</th>\n",
       "      <td>LIFE 70 Years of Extraordinary Photography</td>\n",
       "      <td>Editors of Life</td>\n",
       "      <td>Hardcover,– 10 Oct 2006</td>\n",
       "      <td>5.0</td>\n",
       "      <td>1</td>\n",
       "      <td>seven thrill world unrival present best photog...</td>\n",
       "      <td>Photography Textbooks</td>\n",
       "      <td>Arts, Film &amp; Photography</td>\n",
       "      <td>965.62</td>\n",
       "      <td>2006</td>\n",
       "      <td>Hardcover</td>\n",
       "      <td>(0.5599999999999999, 0.61)</td>\n",
       "      <td>0.560000</td>\n",
       "      <td>0.610000</td>\n",
       "    </tr>\n",
       "  </tbody>\n",
       "</table>\n",
       "</div>"
      ],
      "text/plain": [
       "                                        Title           Author  \\\n",
       "0         The Prisoner's Gold (The Hunters 3)   Chris Kuzneski   \n",
       "1          Guru Dutt: A Tragedy in Three Acts     Arun Khopkar   \n",
       "2                Leviathan (Penguin Classics)    Thomas Hobbes   \n",
       "3          A Pocket Full of Rye (Miss Marple)  Agatha Christie   \n",
       "4  LIFE 70 Years of Extraordinary Photography  Editors of Life   \n",
       "\n",
       "                   Edition  Reviews  Ratings  \\\n",
       "0  Paperback,– 10 Mar 2016      4.0        8   \n",
       "1   Paperback,– 7 Nov 2012      3.9       14   \n",
       "2  Paperback,– 25 Feb 1982      4.8        6   \n",
       "3   Paperback,– 5 Oct 2017      4.1       13   \n",
       "4  Hardcover,– 10 Oct 2006      5.0        1   \n",
       "\n",
       "                                            Synopsis                    Genre  \\\n",
       "0  hunter return third brilliant novel sunday tim...      Action & Adventure    \n",
       "1  layer portrait troubl geniu art mere thing bea...      Cinema & Broadcast    \n",
       "2  time men live without common power keep condit...  International Relations   \n",
       "3  hand grain found pocket murder rex king financ...    Contemporary Fiction    \n",
       "4  seven thrill world unrival present best photog...    Photography Textbooks   \n",
       "\n",
       "                           BookCategory   Price Edition_Year Edition_Type  \\\n",
       "0                    Action & Adventure  220.00         2016    Paperback   \n",
       "1  Biographies, Diaries & True Accounts  202.93         2012    Paperback   \n",
       "2                                Humour  299.00         1982    Paperback   \n",
       "3             Crime, Thriller & Mystery  180.00         2017    Paperback   \n",
       "4              Arts, Film & Photography  965.62         2006    Hardcover   \n",
       "\n",
       "                                    Sentiment  polarity  subjectivity  \n",
       "0    (0.2818181818181818, 0.4949494949494949)  0.281818      0.494949  \n",
       "1  (0.09685314685314683, 0.39137529137529137)  0.096853      0.391375  \n",
       "2  (0.08214962121212122, 0.34611742424242425)  0.082150      0.346117  \n",
       "3                                 (0.0, 0.25)  0.000000      0.250000  \n",
       "4                  (0.5599999999999999, 0.61)  0.560000      0.610000  "
      ]
     },
     "execution_count": 46,
     "metadata": {},
     "output_type": "execute_result"
    }
   ],
   "source": [
    "df.head()"
   ]
  },
  {
   "cell_type": "code",
   "execution_count": 47,
   "id": "f75b8557",
   "metadata": {},
   "outputs": [],
   "source": [
    "df.drop(['Synopsis','Title', 'Sentiment','Edition'], axis = 1, inplace = True)"
   ]
  },
  {
   "cell_type": "code",
   "execution_count": 48,
   "id": "6a791ca1",
   "metadata": {},
   "outputs": [
    {
     "data": {
      "text/plain": [
       "3679"
      ]
     },
     "execution_count": 48,
     "metadata": {},
     "output_type": "execute_result"
    }
   ],
   "source": [
    "df['Author'].nunique()"
   ]
  },
  {
   "cell_type": "markdown",
   "id": "e44d163b",
   "metadata": {},
   "source": [
    "### EDA"
   ]
  },
  {
   "cell_type": "code",
   "execution_count": 49,
   "id": "0afc8db1",
   "metadata": {},
   "outputs": [
    {
     "name": "stderr",
     "output_type": "stream",
     "text": [
      "C:\\Users\\ravit\\anaconda3\\lib\\site-packages\\seaborn\\_decorators.py:36: FutureWarning: Pass the following variable as a keyword arg: x. From version 0.12, the only valid positional argument will be `data`, and passing other arguments without an explicit keyword will result in an error or misinterpretation.\n",
      "  warnings.warn(\n"
     ]
    },
    {
     "data": {
      "text/plain": [
       "<AxesSubplot:xlabel='Price'>"
      ]
     },
     "execution_count": 49,
     "metadata": {},
     "output_type": "execute_result"
    },
    {
     "data": {
      "image/png": "[encoded data removed]",
      "text/plain": [
       "<Figure size 432x288 with 1 Axes>"
      ]
     },
     "metadata": {
      "needs_background": "light"
     },
     "output_type": "display_data"
    }
   ],
   "source": [
    "sns.boxplot(df['Price'])"
   ]
  },
  {
   "cell_type": "code",
   "execution_count": 50,
   "id": "f255b97a",
   "metadata": {},
   "outputs": [
    {
     "data": {
      "text/plain": [
       "count     6237.000000\n",
       "mean       560.707516\n",
       "std        690.110657\n",
       "min         25.000000\n",
       "25%        249.180000\n",
       "50%        373.000000\n",
       "75%        599.000000\n",
       "max      14100.000000\n",
       "Name: Price, dtype: float64"
      ]
     },
     "execution_count": 50,
     "metadata": {},
     "output_type": "execute_result"
    }
   ],
   "source": [
    "df['Price'].describe()"
   ]
  },
  {
   "cell_type": "code",
   "execution_count": 51,
   "id": "2fa59269",
   "metadata": {},
   "outputs": [],
   "source": [
    "outliers = []\n",
    "def Finding_outliers(data):\n",
    "    data = sorted(data)\n",
    "    q1 = np.percentile(data, 25)\n",
    "    q3 = np.percentile(data, 75)\n",
    "    IQR = q3-q1\n",
    "    lwr_bound = q1-(1.5*IQR)\n",
    "    upr_bound = q3+(1.5*IQR)\n",
    "    for i in data: \n",
    "        if (i<lwr_bound or i>upr_bound):\n",
    "            outliers.append(i)\n",
    "    return outliers"
   ]
  },
  {
   "cell_type": "code",
   "execution_count": 52,
   "id": "37052ed1",
   "metadata": {},
   "outputs": [
    {
     "data": {
      "text/plain": [
       "[1124.0,\n",
       " 1125.0,\n",
       " 1125.09,\n",
       " 1128.0,\n",
       " 1128.0,\n",
       " 1128.8,\n",
       " 1130.0,\n",
       " 1130.0,\n",
       " 1132.0,\n",
       " 1133.0,\n",
       " 1134.0,\n",
       " 1135.0,\n",
       " 1135.0,\n",
       " 1137.0,\n",
       " 1138.0,\n",
       " 1141.0,\n",
       " 1143.0,\n",
       " 1143.0,\n",
       " 1144.5,\n",
       " 1147.0,\n",
       " 1147.18,\n",
       " 1149.0,\n",
       " 1150.0,\n",
       " 1150.0,\n",
       " 1150.0,\n",
       " 1153.0,\n",
       " 1154.0,\n",
       " 1155.0,\n",
       " 1156.04,\n",
       " 1157.0,\n",
       " 1158.0,\n",
       " 1159.0,\n",
       " 1159.0,\n",
       " 1160.0,\n",
       " 1160.0,\n",
       " 1168.0,\n",
       " 1169.0,\n",
       " 1169.22,\n",
       " 1171.0,\n",
       " 1172.0,\n",
       " 1172.0,\n",
       " 1173.0,\n",
       " 1173.0,\n",
       " 1174.0,\n",
       " 1175.0,\n",
       " 1178.0,\n",
       " 1179.99,\n",
       " 1182.0,\n",
       " 1183.0,\n",
       " 1187.0,\n",
       " 1191.0,\n",
       " 1194.0,\n",
       " 1194.0,\n",
       " 1196.0,\n",
       " 1196.0,\n",
       " 1196.0,\n",
       " 1197.0,\n",
       " 1197.0,\n",
       " 1198.0,\n",
       " 1199.0,\n",
       " 1199.0,\n",
       " 1199.0,\n",
       " 1199.0,\n",
       " 1199.0,\n",
       " 1199.0,\n",
       " 1199.0,\n",
       " 1199.0,\n",
       " 1200.0,\n",
       " 1200.0,\n",
       " 1200.0,\n",
       " 1200.0,\n",
       " 1200.0,\n",
       " 1200.0,\n",
       " 1201.0,\n",
       " 1203.0,\n",
       " 1204.0,\n",
       " 1204.0,\n",
       " 1205.0,\n",
       " 1205.0,\n",
       " 1205.0,\n",
       " 1207.0,\n",
       " 1214.0,\n",
       " 1214.0,\n",
       " 1221.0,\n",
       " 1224.0,\n",
       " 1227.0,\n",
       " 1229.0,\n",
       " 1230.0,\n",
       " 1233.0,\n",
       " 1234.0,\n",
       " 1238.0,\n",
       " 1242.0,\n",
       " 1244.0,\n",
       " 1248.0,\n",
       " 1248.0,\n",
       " 1249.04,\n",
       " 1250.0,\n",
       " 1251.0,\n",
       " 1252.0,\n",
       " 1254.0,\n",
       " 1255.0,\n",
       " 1257.25,\n",
       " 1261.0,\n",
       " 1262.0,\n",
       " 1265.0,\n",
       " 1265.0,\n",
       " 1267.0,\n",
       " 1268.0,\n",
       " 1268.0,\n",
       " 1273.0,\n",
       " 1273.0,\n",
       " 1274.0,\n",
       " 1275.0,\n",
       " 1276.0,\n",
       " 1279.0,\n",
       " 1280.0,\n",
       " 1285.0,\n",
       " 1285.0,\n",
       " 1285.0,\n",
       " 1285.0,\n",
       " 1286.0,\n",
       " 1286.23,\n",
       " 1290.0,\n",
       " 1290.0,\n",
       " 1290.66,\n",
       " 1292.0,\n",
       " 1293.75,\n",
       " 1298.0,\n",
       " 1298.0,\n",
       " 1299.0,\n",
       " 1299.0,\n",
       " 1299.0,\n",
       " 1300.0,\n",
       " 1304.0,\n",
       " 1304.0,\n",
       " 1308.0,\n",
       " 1313.0,\n",
       " 1318.0,\n",
       " 1318.0,\n",
       " 1319.0,\n",
       " 1319.0,\n",
       " 1319.77,\n",
       " 1320.0,\n",
       " 1321.0,\n",
       " 1323.0,\n",
       " 1328.0,\n",
       " 1330.44,\n",
       " 1331.0,\n",
       " 1331.0,\n",
       " 1332.25,\n",
       " 1333.0,\n",
       " 1334.0,\n",
       " 1337.0,\n",
       " 1339.0,\n",
       " 1341.0,\n",
       " 1341.0,\n",
       " 1344.0,\n",
       " 1344.0,\n",
       " 1345.0,\n",
       " 1347.0,\n",
       " 1347.0,\n",
       " 1349.0,\n",
       " 1350.0,\n",
       " 1350.0,\n",
       " 1358.0,\n",
       " 1359.0,\n",
       " 1363.0,\n",
       " 1366.0,\n",
       " 1367.0,\n",
       " 1369.0,\n",
       " 1375.0,\n",
       " 1376.0,\n",
       " 1379.0,\n",
       " 1380.0,\n",
       " 1380.0,\n",
       " 1383.0,\n",
       " 1389.0,\n",
       " 1389.0,\n",
       " 1389.0,\n",
       " 1392.0,\n",
       " 1392.0,\n",
       " 1394.0,\n",
       " 1398.0,\n",
       " 1398.0,\n",
       " 1399.0,\n",
       " 1399.0,\n",
       " 1399.0,\n",
       " 1399.0,\n",
       " 1399.0,\n",
       " 1399.0,\n",
       " 1399.0,\n",
       " 1399.0,\n",
       " 1399.0,\n",
       " 1400.0,\n",
       " 1400.0,\n",
       " 1400.0,\n",
       " 1400.0,\n",
       " 1402.0,\n",
       " 1403.0,\n",
       " 1407.0,\n",
       " 1409.0,\n",
       " 1411.0,\n",
       " 1413.86,\n",
       " 1415.0,\n",
       " 1416.0,\n",
       " 1419.0,\n",
       " 1419.0,\n",
       " 1422.0,\n",
       " 1424.0,\n",
       " 1424.0,\n",
       " 1427.0,\n",
       " 1427.0,\n",
       " 1428.0,\n",
       " 1430.0,\n",
       " 1431.0,\n",
       " 1433.0,\n",
       " 1434.0,\n",
       " 1434.0,\n",
       " 1434.86,\n",
       " 1439.0,\n",
       " 1439.0,\n",
       " 1439.0,\n",
       " 1443.48,\n",
       " 1445.0,\n",
       " 1449.0,\n",
       " 1450.0,\n",
       " 1450.0,\n",
       " 1450.0,\n",
       " 1453.0,\n",
       " 1453.0,\n",
       " 1455.0,\n",
       " 1455.9,\n",
       " 1457.0,\n",
       " 1457.0,\n",
       " 1458.0,\n",
       " 1460.0,\n",
       " 1465.0,\n",
       " 1468.0,\n",
       " 1469.0,\n",
       " 1472.0,\n",
       " 1472.0,\n",
       " 1475.0,\n",
       " 1475.0,\n",
       " 1476.79,\n",
       " 1477.0,\n",
       " 1478.0,\n",
       " 1488.0,\n",
       " 1488.0,\n",
       " 1490.0,\n",
       " 1493.0,\n",
       " 1496.0,\n",
       " 1497.0,\n",
       " 1497.2,\n",
       " 1498.0,\n",
       " 1499.0,\n",
       " 1499.0,\n",
       " 1499.0,\n",
       " 1499.0,\n",
       " 1499.0,\n",
       " 1499.0,\n",
       " 1499.0,\n",
       " 1499.0,\n",
       " 1499.0,\n",
       " 1499.0,\n",
       " 1499.0,\n",
       " 1500.0,\n",
       " 1505.0,\n",
       " 1513.0,\n",
       " 1519.0,\n",
       " 1524.0,\n",
       " 1524.0,\n",
       " 1524.0,\n",
       " 1528.0,\n",
       " 1538.0,\n",
       " 1542.0,\n",
       " 1545.0,\n",
       " 1545.0,\n",
       " 1548.0,\n",
       " 1550.0,\n",
       " 1551.0,\n",
       " 1552.0,\n",
       " 1557.0,\n",
       " 1557.0,\n",
       " 1571.0,\n",
       " 1575.0,\n",
       " 1575.0,\n",
       " 1576.0,\n",
       " 1579.0,\n",
       " 1584.0,\n",
       " 1585.0,\n",
       " 1586.0,\n",
       " 1588.0,\n",
       " 1590.0,\n",
       " 1595.0,\n",
       " 1595.0,\n",
       " 1599.0,\n",
       " 1599.0,\n",
       " 1600.0,\n",
       " 1600.0,\n",
       " 1600.0,\n",
       " 1600.0,\n",
       " 1600.0,\n",
       " 1600.0,\n",
       " 1607.0,\n",
       " 1610.0,\n",
       " 1613.0,\n",
       " 1618.0,\n",
       " 1618.0,\n",
       " 1620.0,\n",
       " 1625.0,\n",
       " 1625.0,\n",
       " 1627.0,\n",
       " 1635.0,\n",
       " 1640.0,\n",
       " 1642.0,\n",
       " 1643.0,\n",
       " 1647.0,\n",
       " 1650.0,\n",
       " 1658.0,\n",
       " 1669.0,\n",
       " 1671.9,\n",
       " 1672.0,\n",
       " 1679.0,\n",
       " 1679.0,\n",
       " 1686.0,\n",
       " 1688.0,\n",
       " 1689.0,\n",
       " 1689.0,\n",
       " 1699.0,\n",
       " 1699.0,\n",
       " 1700.0,\n",
       " 1706.0,\n",
       " 1706.89,\n",
       " 1720.0,\n",
       " 1721.0,\n",
       " 1725.14,\n",
       " 1728.0,\n",
       " 1730.0,\n",
       " 1732.0,\n",
       " 1736.0,\n",
       " 1748.0,\n",
       " 1756.0,\n",
       " 1766.0,\n",
       " 1766.0,\n",
       " 1770.0,\n",
       " 1770.45,\n",
       " 1771.0,\n",
       " 1776.0,\n",
       " 1779.14,\n",
       " 1780.0,\n",
       " 1780.0,\n",
       " 1783.0,\n",
       " 1783.0,\n",
       " 1791.41,\n",
       " 1796.0,\n",
       " 1799.0,\n",
       " 1799.0,\n",
       " 1800.0,\n",
       " 1800.0,\n",
       " 1807.0,\n",
       " 1808.0,\n",
       " 1812.0,\n",
       " 1819.0,\n",
       " 1821.0,\n",
       " 1824.0,\n",
       " 1825.0,\n",
       " 1826.0,\n",
       " 1827.0,\n",
       " 1828.0,\n",
       " 1835.0,\n",
       " 1837.0,\n",
       " 1839.0,\n",
       " 1839.0,\n",
       " 1839.0,\n",
       " 1843.0,\n",
       " 1846.0,\n",
       " 1848.0,\n",
       " 1849.0,\n",
       " 1850.0,\n",
       " 1852.0,\n",
       " 1853.0,\n",
       " 1854.0,\n",
       " 1868.0,\n",
       " 1878.0,\n",
       " 1879.0,\n",
       " 1879.0,\n",
       " 1884.62,\n",
       " 1889.0,\n",
       " 1890.0,\n",
       " 1897.0,\n",
       " 1899.0,\n",
       " 1900.0,\n",
       " 1900.0,\n",
       " 1900.0,\n",
       " 1900.0,\n",
       " 1916.0,\n",
       " 1919.0,\n",
       " 1924.23,\n",
       " 1928.0,\n",
       " 1931.0,\n",
       " 1939.0,\n",
       " 1943.0,\n",
       " 1954.0,\n",
       " 1969.0,\n",
       " 1972.0,\n",
       " 1974.0,\n",
       " 1975.0,\n",
       " 1981.0,\n",
       " 1983.0,\n",
       " 1999.59,\n",
       " 2000.0,\n",
       " 2000.0,\n",
       " 2006.0,\n",
       " 2018.0,\n",
       " 2032.0,\n",
       " 2033.0,\n",
       " 2033.0,\n",
       " 2036.0,\n",
       " 2056.0,\n",
       " 2059.0,\n",
       " 2067.0,\n",
       " 2068.0,\n",
       " 2075.0,\n",
       " 2080.0,\n",
       " 2098.67,\n",
       " 2100.0,\n",
       " 2100.0,\n",
       " 2100.0,\n",
       " 2115.0,\n",
       " 2122.0,\n",
       " 2122.0,\n",
       " 2129.0,\n",
       " 2141.0,\n",
       " 2145.0,\n",
       " 2166.0,\n",
       " 2176.0,\n",
       " 2185.0,\n",
       " 2202.0,\n",
       " 2208.0,\n",
       " 2208.0,\n",
       " 2208.0,\n",
       " 2211.0,\n",
       " 2211.0,\n",
       " 2216.63,\n",
       " 2230.0,\n",
       " 2230.0,\n",
       " 2239.0,\n",
       " 2239.0,\n",
       " 2243.0,\n",
       " 2248.0,\n",
       " 2250.0,\n",
       " 2263.0,\n",
       " 2275.0,\n",
       " 2305.0,\n",
       " 2308.0,\n",
       " 2320.0,\n",
       " 2339.0,\n",
       " 2350.0,\n",
       " 2370.19,\n",
       " 2384.0,\n",
       " 2394.0,\n",
       " 2403.0,\n",
       " 2403.0,\n",
       " 2406.0,\n",
       " 2442.0,\n",
       " 2450.0,\n",
       " 2450.0,\n",
       " 2475.0,\n",
       " 2484.0,\n",
       " 2484.0,\n",
       " 2500.0,\n",
       " 2501.0,\n",
       " 2511.0,\n",
       " 2516.0,\n",
       " 2531.0,\n",
       " 2533.0,\n",
       " 2533.0,\n",
       " 2546.0,\n",
       " 2556.0,\n",
       " 2559.0,\n",
       " 2559.0,\n",
       " 2559.0,\n",
       " 2564.0,\n",
       " 2570.0,\n",
       " 2571.96,\n",
       " 2590.0,\n",
       " 2633.0,\n",
       " 2634.0,\n",
       " 2641.0,\n",
       " 2653.0,\n",
       " 2655.21,\n",
       " 2670.0,\n",
       " 2677.0,\n",
       " 2679.0,\n",
       " 2685.0,\n",
       " 2695.0,\n",
       " 2721.0,\n",
       " 2721.0,\n",
       " 2729.0,\n",
       " 2733.0,\n",
       " 2733.0,\n",
       " 2738.0,\n",
       " 2742.0,\n",
       " 2742.0,\n",
       " 2747.0,\n",
       " 2747.0,\n",
       " 2748.97,\n",
       " 2764.0,\n",
       " 2767.0,\n",
       " 2774.0,\n",
       " 2789.0,\n",
       " 2798.0,\n",
       " 2798.0,\n",
       " 2799.0,\n",
       " 2820.0,\n",
       " 2820.0,\n",
       " 2846.0,\n",
       " 2846.0,\n",
       " 2870.0,\n",
       " 2871.0,\n",
       " 2899.0,\n",
       " 2900.0,\n",
       " 2905.0,\n",
       " 2949.0,\n",
       " 2964.0,\n",
       " 2999.0,\n",
       " 3042.0,\n",
       " 3098.0,\n",
       " 3098.0,\n",
       " 3098.0,\n",
       " 3194.0,\n",
       " 3242.0,\n",
       " 3321.0,\n",
       " 3340.0,\n",
       " 3439.0,\n",
       " 3495.0,\n",
       " 3528.0,\n",
       " 3548.0,\n",
       " 3607.0,\n",
       " 3636.0,\n",
       " 3645.0,\n",
       " 3647.0,\n",
       " 3680.0,\n",
       " 3749.0,\n",
       " 3776.55,\n",
       " 3779.0,\n",
       " 3859.0,\n",
       " 3859.0,\n",
       " 3875.0,\n",
       " 3921.0,\n",
       " 3950.0,\n",
       " 3951.07,\n",
       " 3980.0,\n",
       " 3990.0,\n",
       " 4013.0,\n",
       " 4041.86,\n",
       " 4093.0,\n",
       " 4175.0,\n",
       " 4175.0,\n",
       " 4224.0,\n",
       " 4276.0,\n",
       " 4289.29,\n",
       " 4292.0,\n",
       " 4338.0,\n",
       " 4370.31,\n",
       " 4427.99,\n",
       " 4455.0,\n",
       " 4486.0,\n",
       " 4500.0,\n",
       " 4557.0,\n",
       " 4682.51,\n",
       " 4854.39,\n",
       " 4860.0,\n",
       " 4915.0,\n",
       " 4936.0,\n",
       " 4999.0,\n",
       " 5058.0,\n",
       " 5064.0,\n",
       " 5177.66,\n",
       " 5253.0,\n",
       " 5437.0,\n",
       " 5530.0,\n",
       " 5600.0,\n",
       " 5811.0,\n",
       " 5968.0,\n",
       " 6415.0,\n",
       " 6840.0,\n",
       " 6911.0,\n",
       " 7132.0,\n",
       " 7195.0,\n",
       " 7302.0,\n",
       " 8999.0,\n",
       " 9096.0,\n",
       " 9984.0,\n",
       " 11715.12,\n",
       " 13244.67,\n",
       " 14100.0]"
      ]
     },
     "execution_count": 52,
     "metadata": {},
     "output_type": "execute_result"
    }
   ],
   "source": [
    "Finding_outliers(df['Price'])"
   ]
  },
  {
   "cell_type": "code",
   "execution_count": 53,
   "id": "adcf9932",
   "metadata": {},
   "outputs": [
    {
     "data": {
      "image/png": "[encoded data removed]",
      "text/plain": [
       "<Figure size 1080x576 with 1 Axes>"
      ]
     },
     "metadata": {
      "needs_background": "light"
     },
     "output_type": "display_data"
    }
   ],
   "source": [
    "plt.figure(figsize=(15,8))\n",
    "sns.histplot(x=df['Price'],kde=True)\n",
    "plt.show()"
   ]
  },
  {
   "cell_type": "code",
   "execution_count": 54,
   "id": "d6d2dd04",
   "metadata": {},
   "outputs": [
    {
     "name": "stderr",
     "output_type": "stream",
     "text": [
      "C:\\Users\\ravit\\anaconda3\\lib\\site-packages\\seaborn\\_decorators.py:36: FutureWarning: Pass the following variable as a keyword arg: x. From version 0.12, the only valid positional argument will be `data`, and passing other arguments without an explicit keyword will result in an error or misinterpretation.\n",
      "  warnings.warn(\n"
     ]
    },
    {
     "data": {
      "image/png": "[encoded data removed]",
      "text/plain": [
       "<Figure size 720x360 with 1 Axes>"
      ]
     },
     "metadata": {
      "needs_background": "light"
     },
     "output_type": "display_data"
    }
   ],
   "source": [
    "plt.figure(figsize=(10,5))\n",
    "sns.countplot(df['Reviews'])\n",
    "plt.show()"
   ]
  },
  {
   "cell_type": "code",
   "execution_count": 55,
   "id": "68670a0a",
   "metadata": {},
   "outputs": [
    {
     "data": {
      "image/png": "[encoded data removed]",
      "text/plain": [
       "<Figure size 1080x576 with 1 Axes>"
      ]
     },
     "metadata": {
      "needs_background": "light"
     },
     "output_type": "display_data"
    }
   ],
   "source": [
    "plt.figure(figsize=(15,8))\n",
    "sns.barplot(x=df['Reviews'],y=df['Price'])\n",
    "plt.show()"
   ]
  },
  {
   "cell_type": "code",
   "execution_count": 56,
   "id": "6807795d",
   "metadata": {},
   "outputs": [
    {
     "data": {
      "image/png": "[encoded data removed]",
      "text/plain": [
       "<Figure size 1080x576 with 1 Axes>"
      ]
     },
     "metadata": {
      "needs_background": "light"
     },
     "output_type": "display_data"
    }
   ],
   "source": [
    "plt.figure(figsize=(15,8))\n",
    "sns.scatterplot(x=df['Ratings'],y=df['Price'])\n",
    "plt.show()"
   ]
  },
  {
   "cell_type": "code",
   "execution_count": 57,
   "id": "d5bb7a44",
   "metadata": {},
   "outputs": [
    {
     "data": {
      "text/plain": [
       "Author            object\n",
       "Reviews          float64\n",
       "Ratings            int32\n",
       "Genre             object\n",
       "BookCategory      object\n",
       "Price            float64\n",
       "Edition_Year    category\n",
       "Edition_Type      object\n",
       "polarity         float64\n",
       "subjectivity     float64\n",
       "dtype: object"
      ]
     },
     "execution_count": 57,
     "metadata": {},
     "output_type": "execute_result"
    }
   ],
   "source": [
    "df.dtypes"
   ]
  },
  {
   "cell_type": "code",
   "execution_count": 58,
   "id": "30d4ddbd",
   "metadata": {},
   "outputs": [
    {
     "name": "stdout",
     "output_type": "stream",
     "text": [
      "['Author', 'Genre', 'BookCategory', 'Edition_Year', 'Edition_Type']\n",
      "['Reviews', 'Ratings', 'Price', 'polarity', 'subjectivity']\n"
     ]
    }
   ],
   "source": [
    "cat_cols = df.select_dtypes(include=['object','category']).columns.tolist()\n",
    "print(cat_cols)\n",
    "\n",
    "num_cols = df.select_dtypes(include=['int64','float64','int32']).columns.tolist()\n",
    "print(num_cols)"
   ]
  },
  {
   "cell_type": "code",
   "execution_count": 59,
   "id": "597db769",
   "metadata": {},
   "outputs": [],
   "source": [
    "df['Author']=df.Author.astype(\"category\").cat.codes\n",
    "df['BookCategory']=df.BookCategory.astype(\"category\").cat.codes\n",
    "df['Edition_Type']=df.Edition_Type.astype(\"category\").cat.codes\n",
    "df['Edition_Year']=df.Edition_Year.astype(\"category\").cat.codes\n",
    "df['Genre']=df.Genre.astype(\"category\").cat.codes"
   ]
  },
  {
   "cell_type": "code",
   "execution_count": 60,
   "id": "3813d16b",
   "metadata": {},
   "outputs": [
    {
     "data": {
      "text/html": [
       "<div>\n",
       "<style scoped>\n",
       "    .dataframe tbody tr th:only-of-type {\n",
       "        vertical-align: middle;\n",
       "    }\n",
       "\n",
       "    .dataframe tbody tr th {\n",
       "        vertical-align: top;\n",
       "    }\n",
       "\n",
       "    .dataframe thead th {\n",
       "        text-align: right;\n",
       "    }\n",
       "</style>\n",
       "<table border=\"1\" class=\"dataframe\">\n",
       "  <thead>\n",
       "    <tr style=\"text-align: right;\">\n",
       "      <th></th>\n",
       "      <th>Author</th>\n",
       "      <th>Reviews</th>\n",
       "      <th>Ratings</th>\n",
       "      <th>Genre</th>\n",
       "      <th>BookCategory</th>\n",
       "      <th>Price</th>\n",
       "      <th>Edition_Year</th>\n",
       "      <th>Edition_Type</th>\n",
       "      <th>polarity</th>\n",
       "      <th>subjectivity</th>\n",
       "    </tr>\n",
       "  </thead>\n",
       "  <tbody>\n",
       "    <tr>\n",
       "      <th>0</th>\n",
       "      <td>615</td>\n",
       "      <td>4.0</td>\n",
       "      <td>8</td>\n",
       "      <td>1</td>\n",
       "      <td>0</td>\n",
       "      <td>220.00</td>\n",
       "      <td>52</td>\n",
       "      <td>2</td>\n",
       "      <td>0.281818</td>\n",
       "      <td>0.494949</td>\n",
       "    </tr>\n",
       "    <tr>\n",
       "      <th>1</th>\n",
       "      <td>307</td>\n",
       "      <td>3.9</td>\n",
       "      <td>14</td>\n",
       "      <td>74</td>\n",
       "      <td>2</td>\n",
       "      <td>202.93</td>\n",
       "      <td>48</td>\n",
       "      <td>2</td>\n",
       "      <td>0.096853</td>\n",
       "      <td>0.391375</td>\n",
       "    </tr>\n",
       "    <tr>\n",
       "      <th>2</th>\n",
       "      <td>3390</td>\n",
       "      <td>4.8</td>\n",
       "      <td>6</td>\n",
       "      <td>193</td>\n",
       "      <td>6</td>\n",
       "      <td>299.00</td>\n",
       "      <td>18</td>\n",
       "      <td>2</td>\n",
       "      <td>0.082150</td>\n",
       "      <td>0.346117</td>\n",
       "    </tr>\n",
       "    <tr>\n",
       "      <th>3</th>\n",
       "      <td>62</td>\n",
       "      <td>4.1</td>\n",
       "      <td>13</td>\n",
       "      <td>92</td>\n",
       "      <td>5</td>\n",
       "      <td>180.00</td>\n",
       "      <td>53</td>\n",
       "      <td>2</td>\n",
       "      <td>0.000000</td>\n",
       "      <td>0.250000</td>\n",
       "    </tr>\n",
       "    <tr>\n",
       "      <th>4</th>\n",
       "      <td>953</td>\n",
       "      <td>5.0</td>\n",
       "      <td>1</td>\n",
       "      <td>253</td>\n",
       "      <td>1</td>\n",
       "      <td>965.62</td>\n",
       "      <td>42</td>\n",
       "      <td>0</td>\n",
       "      <td>0.560000</td>\n",
       "      <td>0.610000</td>\n",
       "    </tr>\n",
       "  </tbody>\n",
       "</table>\n",
       "</div>"
      ],
      "text/plain": [
       "   Author  Reviews  Ratings  Genre  BookCategory   Price  Edition_Year  \\\n",
       "0     615      4.0        8      1             0  220.00            52   \n",
       "1     307      3.9       14     74             2  202.93            48   \n",
       "2    3390      4.8        6    193             6  299.00            18   \n",
       "3      62      4.1       13     92             5  180.00            53   \n",
       "4     953      5.0        1    253             1  965.62            42   \n",
       "\n",
       "   Edition_Type  polarity  subjectivity  \n",
       "0             2  0.281818      0.494949  \n",
       "1             2  0.096853      0.391375  \n",
       "2             2  0.082150      0.346117  \n",
       "3             2  0.000000      0.250000  \n",
       "4             0  0.560000      0.610000  "
      ]
     },
     "execution_count": 60,
     "metadata": {},
     "output_type": "execute_result"
    }
   ],
   "source": [
    "df.head()"
   ]
  },
  {
   "cell_type": "code",
   "execution_count": 61,
   "id": "2ac9216a",
   "metadata": {},
   "outputs": [
    {
     "data": {
      "image/png": "[encoded data removed]",
      "text/plain": [
       "<Figure size 864x576 with 2 Axes>"
      ]
     },
     "metadata": {
      "needs_background": "light"
     },
     "output_type": "display_data"
    }
   ],
   "source": [
    "plt.figure(figsize=(12,8))\n",
    "sns.heatmap(df.corr(),annot=True, linewidths=1)\n",
    "plt.show()"
   ]
  },
  {
   "cell_type": "code",
   "execution_count": 62,
   "id": "3bf3036d",
   "metadata": {},
   "outputs": [
    {
     "name": "stdout",
     "output_type": "stream",
     "text": [
      "Optimal lambda -0.13820326756118104\n"
     ]
    }
   ],
   "source": [
    "X = df.drop('Price', axis =1)\n",
    "#y = df.Price\n",
    "y, param = boxcox(df.Price)\n",
    "\n",
    "print('Optimal lambda', param)\n",
    "\n",
    "X_train, X_val, y_train, y_val = train_test_split(X, y, test_size=0.20)"
   ]
  },
  {
   "cell_type": "code",
   "execution_count": 63,
   "id": "69e4be03",
   "metadata": {},
   "outputs": [
    {
     "data": {
      "text/html": [
       "<style>#sk-container-id-1 {color: black;background-color: white;}#sk-container-id-1 pre{padding: 0;}#sk-container-id-1 div.sk-toggleable {background-color: white;}#sk-container-id-1 label.sk-toggleable__label {cursor: pointer;display: block;width: 100%;margin-bottom: 0;padding: 0.3em;box-sizing: border-box;text-align: center;}#sk-container-id-1 label.sk-toggleable__label-arrow:before {content: \"▸\";float: left;margin-right: 0.25em;color: #696969;}#sk-container-id-1 label.sk-toggleable__label-arrow:hover:before {color: black;}#sk-container-id-1 div.sk-estimator:hover label.sk-toggleable__label-arrow:before {color: black;}#sk-container-id-1 div.sk-toggleable__content {max-height: 0;max-width: 0;overflow: hidden;text-align: left;background-color: #f0f8ff;}#sk-container-id-1 div.sk-toggleable__content pre {margin: 0.2em;color: black;border-radius: 0.25em;background-color: #f0f8ff;}#sk-container-id-1 input.sk-toggleable__control:checked~div.sk-toggleable__content {max-height: 200px;max-width: 100%;overflow: auto;}#sk-container-id-1 input.sk-toggleable__control:checked~label.sk-toggleable__label-arrow:before {content: \"▾\";}#sk-container-id-1 div.sk-estimator input.sk-toggleable__control:checked~label.sk-toggleable__label {background-color: #d4ebff;}#sk-container-id-1 div.sk-label input.sk-toggleable__control:checked~label.sk-toggleable__label {background-color: #d4ebff;}#sk-container-id-1 input.sk-hidden--visually {border: 0;clip: rect(1px 1px 1px 1px);clip: rect(1px, 1px, 1px, 1px);height: 1px;margin: -1px;overflow: hidden;padding: 0;position: absolute;width: 1px;}#sk-container-id-1 div.sk-estimator {font-family: monospace;background-color: #f0f8ff;border: 1px dotted black;border-radius: 0.25em;box-sizing: border-box;margin-bottom: 0.5em;}#sk-container-id-1 div.sk-estimator:hover {background-color: #d4ebff;}#sk-container-id-1 div.sk-parallel-item::after {content: \"\";width: 100%;border-bottom: 1px solid gray;flex-grow: 1;}#sk-container-id-1 div.sk-label:hover label.sk-toggleable__label {background-color: #d4ebff;}#sk-container-id-1 div.sk-serial::before {content: \"\";position: absolute;border-left: 1px solid gray;box-sizing: border-box;top: 0;bottom: 0;left: 50%;z-index: 0;}#sk-container-id-1 div.sk-serial {display: flex;flex-direction: column;align-items: center;background-color: white;padding-right: 0.2em;padding-left: 0.2em;position: relative;}#sk-container-id-1 div.sk-item {position: relative;z-index: 1;}#sk-container-id-1 div.sk-parallel {display: flex;align-items: stretch;justify-content: center;background-color: white;position: relative;}#sk-container-id-1 div.sk-item::before, #sk-container-id-1 div.sk-parallel-item::before {content: \"\";position: absolute;border-left: 1px solid gray;box-sizing: border-box;top: 0;bottom: 0;left: 50%;z-index: -1;}#sk-container-id-1 div.sk-parallel-item {display: flex;flex-direction: column;z-index: 1;position: relative;background-color: white;}#sk-container-id-1 div.sk-parallel-item:first-child::after {align-self: flex-end;width: 50%;}#sk-container-id-1 div.sk-parallel-item:last-child::after {align-self: flex-start;width: 50%;}#sk-container-id-1 div.sk-parallel-item:only-child::after {width: 0;}#sk-container-id-1 div.sk-dashed-wrapped {border: 1px dashed gray;margin: 0 0.4em 0.5em 0.4em;box-sizing: border-box;padding-bottom: 0.4em;background-color: white;}#sk-container-id-1 div.sk-label label {font-family: monospace;font-weight: bold;display: inline-block;line-height: 1.2em;}#sk-container-id-1 div.sk-label-container {text-align: center;}#sk-container-id-1 div.sk-container {/* jupyter's `normalize.less` sets `[hidden] { display: none; }` but bootstrap.min.css set `[hidden] { display: none !important; }` so we also need the `!important` here to be able to override the default hidden behavior on the sphinx rendered scikit-learn.org. See: https://github.com/scikit-learn/scikit-learn/issues/21755 */display: inline-block !important;position: relative;}#sk-container-id-1 div.sk-text-repr-fallback {display: none;}</style><div id=\"sk-container-id-1\" class=\"sk-top-container\"><div class=\"sk-text-repr-fallback\"><pre>RandomForestRegressor(n_estimators=200, random_state=42)</pre><b>In a Jupyter environment, please rerun this cell to show the HTML representation or trust the notebook. <br />On GitHub, the HTML representation is unable to render, please try loading this page with nbviewer.org.</b></div><div class=\"sk-container\" hidden><div class=\"sk-item\"><div class=\"sk-estimator sk-toggleable\"><input class=\"sk-toggleable__control sk-hidden--visually\" id=\"sk-estimator-id-1\" type=\"checkbox\" checked><label for=\"sk-estimator-id-1\" class=\"sk-toggleable__label sk-toggleable__label-arrow\">RandomForestRegressor</label><div class=\"sk-toggleable__content\"><pre>RandomForestRegressor(n_estimators=200, random_state=42)</pre></div></div></div></div></div>"
      ],
      "text/plain": [
       "RandomForestRegressor(n_estimators=200, random_state=42)"
      ]
     },
     "execution_count": 63,
     "metadata": {},
     "output_type": "execute_result"
    }
   ],
   "source": [
    "regressor = RandomForestRegressor(n_estimators = 200, random_state = 42)\n",
    "regressor.fit(X_train, y_train)"
   ]
  },
  {
   "cell_type": "code",
   "execution_count": 64,
   "id": "92f7d149",
   "metadata": {},
   "outputs": [
    {
     "data": {
      "text/plain": [
       "0.07569189094622722"
      ]
     },
     "execution_count": 64,
     "metadata": {},
     "output_type": "execute_result"
    }
   ],
   "source": [
    "y_pred = regressor.predict(X_val)\n",
    "mse(y_val, y_pred)"
   ]
  },
  {
   "cell_type": "code",
   "execution_count": 65,
   "id": "5711a959",
   "metadata": {},
   "outputs": [
    {
     "data": {
      "text/plain": [
       "0.32704472049691036"
      ]
     },
     "execution_count": 65,
     "metadata": {},
     "output_type": "execute_result"
    }
   ],
   "source": [
    "from sklearn.metrics import r2_score\n",
    "r2_score(y_val, y_pred)  "
   ]
  },
  {
   "cell_type": "code",
   "execution_count": 66,
   "id": "d23cb2ce",
   "metadata": {},
   "outputs": [
    {
     "data": {
      "text/html": [
       "<style>#sk-container-id-2 {color: black;background-color: white;}#sk-container-id-2 pre{padding: 0;}#sk-container-id-2 div.sk-toggleable {background-color: white;}#sk-container-id-2 label.sk-toggleable__label {cursor: pointer;display: block;width: 100%;margin-bottom: 0;padding: 0.3em;box-sizing: border-box;text-align: center;}#sk-container-id-2 label.sk-toggleable__label-arrow:before {content: \"▸\";float: left;margin-right: 0.25em;color: #696969;}#sk-container-id-2 label.sk-toggleable__label-arrow:hover:before {color: black;}#sk-container-id-2 div.sk-estimator:hover label.sk-toggleable__label-arrow:before {color: black;}#sk-container-id-2 div.sk-toggleable__content {max-height: 0;max-width: 0;overflow: hidden;text-align: left;background-color: #f0f8ff;}#sk-container-id-2 div.sk-toggleable__content pre {margin: 0.2em;color: black;border-radius: 0.25em;background-color: #f0f8ff;}#sk-container-id-2 input.sk-toggleable__control:checked~div.sk-toggleable__content {max-height: 200px;max-width: 100%;overflow: auto;}#sk-container-id-2 input.sk-toggleable__control:checked~label.sk-toggleable__label-arrow:before {content: \"▾\";}#sk-container-id-2 div.sk-estimator input.sk-toggleable__control:checked~label.sk-toggleable__label {background-color: #d4ebff;}#sk-container-id-2 div.sk-label input.sk-toggleable__control:checked~label.sk-toggleable__label {background-color: #d4ebff;}#sk-container-id-2 input.sk-hidden--visually {border: 0;clip: rect(1px 1px 1px 1px);clip: rect(1px, 1px, 1px, 1px);height: 1px;margin: -1px;overflow: hidden;padding: 0;position: absolute;width: 1px;}#sk-container-id-2 div.sk-estimator {font-family: monospace;background-color: #f0f8ff;border: 1px dotted black;border-radius: 0.25em;box-sizing: border-box;margin-bottom: 0.5em;}#sk-container-id-2 div.sk-estimator:hover {background-color: #d4ebff;}#sk-container-id-2 div.sk-parallel-item::after {content: \"\";width: 100%;border-bottom: 1px solid gray;flex-grow: 1;}#sk-container-id-2 div.sk-label:hover label.sk-toggleable__label {background-color: #d4ebff;}#sk-container-id-2 div.sk-serial::before {content: \"\";position: absolute;border-left: 1px solid gray;box-sizing: border-box;top: 0;bottom: 0;left: 50%;z-index: 0;}#sk-container-id-2 div.sk-serial {display: flex;flex-direction: column;align-items: center;background-color: white;padding-right: 0.2em;padding-left: 0.2em;position: relative;}#sk-container-id-2 div.sk-item {position: relative;z-index: 1;}#sk-container-id-2 div.sk-parallel {display: flex;align-items: stretch;justify-content: center;background-color: white;position: relative;}#sk-container-id-2 div.sk-item::before, #sk-container-id-2 div.sk-parallel-item::before {content: \"\";position: absolute;border-left: 1px solid gray;box-sizing: border-box;top: 0;bottom: 0;left: 50%;z-index: -1;}#sk-container-id-2 div.sk-parallel-item {display: flex;flex-direction: column;z-index: 1;position: relative;background-color: white;}#sk-container-id-2 div.sk-parallel-item:first-child::after {align-self: flex-end;width: 50%;}#sk-container-id-2 div.sk-parallel-item:last-child::after {align-self: flex-start;width: 50%;}#sk-container-id-2 div.sk-parallel-item:only-child::after {width: 0;}#sk-container-id-2 div.sk-dashed-wrapped {border: 1px dashed gray;margin: 0 0.4em 0.5em 0.4em;box-sizing: border-box;padding-bottom: 0.4em;background-color: white;}#sk-container-id-2 div.sk-label label {font-family: monospace;font-weight: bold;display: inline-block;line-height: 1.2em;}#sk-container-id-2 div.sk-label-container {text-align: center;}#sk-container-id-2 div.sk-container {/* jupyter's `normalize.less` sets `[hidden] { display: none; }` but bootstrap.min.css set `[hidden] { display: none !important; }` so we also need the `!important` here to be able to override the default hidden behavior on the sphinx rendered scikit-learn.org. See: https://github.com/scikit-learn/scikit-learn/issues/21755 */display: inline-block !important;position: relative;}#sk-container-id-2 div.sk-text-repr-fallback {display: none;}</style><div id=\"sk-container-id-2\" class=\"sk-top-container\"><div class=\"sk-text-repr-fallback\"><pre>XGBRegressor(base_score=0.5, booster=&#x27;gbtree&#x27;, callbacks=None,\n",
       "             colsample_bylevel=1, colsample_bynode=1, colsample_bytree=1,\n",
       "             early_stopping_rounds=None, enable_categorical=False,\n",
       "             eval_metric=None, feature_types=None, gamma=0, gpu_id=-1,\n",
       "             grow_policy=&#x27;depthwise&#x27;, importance_type=None,\n",
       "             interaction_constraints=&#x27;&#x27;, learning_rate=0.300000012, max_bin=256,\n",
       "             max_cat_threshold=64, max_cat_to_onehot=4, max_delta_step=0,\n",
       "             max_depth=6, max_leaves=0, min_child_weight=1, missing=nan,\n",
       "             monotone_constraints=&#x27;()&#x27;, n_estimators=500, n_jobs=0,\n",
       "             num_parallel_tree=1, predictor=&#x27;auto&#x27;, random_state=42, ...)</pre><b>In a Jupyter environment, please rerun this cell to show the HTML representation or trust the notebook. <br />On GitHub, the HTML representation is unable to render, please try loading this page with nbviewer.org.</b></div><div class=\"sk-container\" hidden><div class=\"sk-item\"><div class=\"sk-estimator sk-toggleable\"><input class=\"sk-toggleable__control sk-hidden--visually\" id=\"sk-estimator-id-2\" type=\"checkbox\" checked><label for=\"sk-estimator-id-2\" class=\"sk-toggleable__label sk-toggleable__label-arrow\">XGBRegressor</label><div class=\"sk-toggleable__content\"><pre>XGBRegressor(base_score=0.5, booster=&#x27;gbtree&#x27;, callbacks=None,\n",
       "             colsample_bylevel=1, colsample_bynode=1, colsample_bytree=1,\n",
       "             early_stopping_rounds=None, enable_categorical=False,\n",
       "             eval_metric=None, feature_types=None, gamma=0, gpu_id=-1,\n",
       "             grow_policy=&#x27;depthwise&#x27;, importance_type=None,\n",
       "             interaction_constraints=&#x27;&#x27;, learning_rate=0.300000012, max_bin=256,\n",
       "             max_cat_threshold=64, max_cat_to_onehot=4, max_delta_step=0,\n",
       "             max_depth=6, max_leaves=0, min_child_weight=1, missing=nan,\n",
       "             monotone_constraints=&#x27;()&#x27;, n_estimators=500, n_jobs=0,\n",
       "             num_parallel_tree=1, predictor=&#x27;auto&#x27;, random_state=42, ...)</pre></div></div></div></div></div>"
      ],
      "text/plain": [
       "XGBRegressor(base_score=0.5, booster='gbtree', callbacks=None,\n",
       "             colsample_bylevel=1, colsample_bynode=1, colsample_bytree=1,\n",
       "             early_stopping_rounds=None, enable_categorical=False,\n",
       "             eval_metric=None, feature_types=None, gamma=0, gpu_id=-1,\n",
       "             grow_policy='depthwise', importance_type=None,\n",
       "             interaction_constraints='', learning_rate=0.300000012, max_bin=256,\n",
       "             max_cat_threshold=64, max_cat_to_onehot=4, max_delta_step=0,\n",
       "             max_depth=6, max_leaves=0, min_child_weight=1, missing=nan,\n",
       "             monotone_constraints='()', n_estimators=500, n_jobs=0,\n",
       "             num_parallel_tree=1, predictor='auto', random_state=42, ...)"
      ]
     },
     "execution_count": 66,
     "metadata": {},
     "output_type": "execute_result"
    }
   ],
   "source": [
    "xgregressor = XGBRegressor(n_estimators = 500, random_state = 42)\n",
    "xgregressor.fit(X_train, y_train)"
   ]
  },
  {
   "cell_type": "code",
   "execution_count": 67,
   "id": "9424fc0f",
   "metadata": {},
   "outputs": [
    {
     "data": {
      "text/plain": [
       "0.07569189094622722"
      ]
     },
     "execution_count": 67,
     "metadata": {},
     "output_type": "execute_result"
    }
   ],
   "source": [
    "y_pred = regressor.predict(X_val)\n",
    "mse(y_val, y_pred)"
   ]
  },
  {
   "cell_type": "code",
   "execution_count": null,
   "id": "bbffb934",
   "metadata": {},
   "outputs": [],
   "source": []
  }
 ],
 "metadata": {
  "kernelspec": {
   "display_name": "Python 3 (ipykernel)",
   "language": "python",
   "name": "python3"
  },
  "language_info": {
   "codemirror_mode": {
    "name": "ipython",
    "version": 3
   },
   "file_extension": ".py",
   "mimetype": "text/x-python",
   "name": "python",
   "nbconvert_exporter": "python",
   "pygments_lexer": "ipython3",
   "version": "3.9.12"
  }
 },
 "nbformat": 4,
 "nbformat_minor": 5
}
